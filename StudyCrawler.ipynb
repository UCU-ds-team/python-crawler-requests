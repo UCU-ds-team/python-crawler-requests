{
 "cells": [
  {
   "cell_type": "markdown",
   "metadata": {},
   "source": [
    "## A simple example of using  Selenium with Python to scrape the friends data from facebook"
   ]
  },
  {
   "cell_type": "markdown",
   "metadata": {},
   "source": [
    "### Imports"
   ]
  },
  {
   "cell_type": "code",
   "execution_count": 1,
   "metadata": {
    "collapsed": true
   },
   "outputs": [],
   "source": [
    "from selenium import webdriver\n",
    "import time\n",
    "from urllib.parse import urlsplit, parse_qs"
   ]
  },
  {
   "cell_type": "markdown",
   "metadata": {},
   "source": [
    "### Login function"
   ]
  },
  {
   "cell_type": "markdown",
   "metadata": {},
   "source": [
    "This function will provide our login operation"
   ]
  },
  {
   "cell_type": "code",
   "execution_count": 2,
   "metadata": {
    "collapsed": false
   },
   "outputs": [],
   "source": [
    "def login_facebook(browser, login=None, password=None):\n",
    "    \"\"\"\n",
    "    Performs the login event to facebook\n",
    "    \"\"\"\n",
    "    \n",
    "    # Reads login and pass from login.py\n",
    "    if login is None or password is None:\n",
    "        from login import INFO\n",
    "        login = INFO[\"login\"]\n",
    "        password = INFO[\"pass\"]\n",
    "    \n",
    "    # Goes to mobile version of facebook\n",
    "    browser.get('https://m.facebook.com')\n",
    "    try:\n",
    "        # Finds three login fields\n",
    "        login_css = browser.find_element_by_id('m_login_email')\n",
    "        password_css = browser.find_element_by_css_selector('input.bl.bm.bo')\n",
    "        button = browser.find_element_by_css_selector('input[name=\"login\"]')\n",
    "    except:\n",
    "        print(\"!!! You logged in or cannot log in now !!!\")\n",
    "        return\n",
    "    # Puts the data into the fields\n",
    "    login_css.send_keys(login)\n",
    "    password_css.send_keys(password)\n",
    "    \n",
    "    # Presses the sign in button\n",
    "    button.click()\n",
    "    time.sleep(3)\n",
    "    \n",
    "    # Additional checker feature\n",
    "    if (\"Log In With One Tap\" in browser.page_source):\n",
    "        checker_css = browser.find_elements_by_css_selector('input[value=\"OK\"]')\n",
    "        if len(checker_css):\n",
    "            checker_css[0].click()\n",
    "            time.sleep(3)\n",
    "\n",
    "    print(\"Current_url %s\" % browser.current_url)\n",
    "    print(\"Logged in...\")"
   ]
  },
  {
   "cell_type": "markdown",
   "metadata": {},
   "source": [
    "### Friends Scrapper Function\n",
    "This function will do the actual work of scraping friends"
   ]
  },
  {
   "cell_type": "code",
   "execution_count": 3,
   "metadata": {
    "collapsed": true
   },
   "outputs": [],
   "source": [
    "def friends_scrapper(browser, pg_id):\n",
    "    \"\"\"\n",
    "    Using browser and pg_id reads user's friends list\n",
    "    and returns it as a list of tuples (name, id)\n",
    "    \"\"\"\n",
    "    \n",
    "    url = \"https://m.facebook.com/%s/friends\" % pg_id\n",
    "    browser.get(url)\n",
    "    \n",
    "    time.sleep(1.5)\n",
    "    # Initialize the list of names and ids\n",
    "    ids_list = list()\n",
    "    \n",
    "    # Initialise the scroller\n",
    "    while 1:\n",
    "        # Scroll down to bottom and get the content\n",
    "        names = browser.find_elements_by_css_selector('table[role=\"presentation\"] td > a')\n",
    "        for user_index in range(1, len(names)-7):\n",
    "            try:\n",
    "                link = names[user_index].get_attribute(\"href\")\n",
    "                name = names[user_index].text\n",
    "                # print(name)\n",
    "                # print(link)\n",
    "            except Exception as e:\n",
    "                # self.add_error(e)\n",
    "                name = \"\"\n",
    "                link = \"\"\n",
    "            if name:\n",
    "                ids_list.append( (name, link_converter(link)) )\n",
    "        # Go to the next page\n",
    "        scroller = browser.find_elements_by_css_selector(\"#m_more_friends a\")\n",
    "        if(len(scroller) == 0): break;\n",
    "        scroller[0].click()\n",
    "        \n",
    "\n",
    "    print(\"Scrolled to the bottom...\")\n",
    "    return ids_list"
   ]
  },
  {
   "cell_type": "markdown",
   "metadata": {},
   "source": [
    "### Link Converter\n",
    "There are two types of links to get ids from:\n",
    "\n",
    "PHP and Modern\n",
    "\n",
    "https://m.facebook.com/profile.php?id=100015004564464&fref=fr_tab\n",
    "\n",
    "https://m.facebook.com/dobosevych?fref=fr_tab"
   ]
  },
  {
   "cell_type": "code",
   "execution_count": 8,
   "metadata": {
    "collapsed": true
   },
   "outputs": [],
   "source": [
    "def link_converter(link):\n",
    "    url = urlsplit(link)\n",
    "    query = url.query\n",
    "    params = parse_qs(query)\n",
    "    if \"/profile.php\" in url.path:\n",
    "        return params[\"id\"]\n",
    "    return url.path[1:]"
   ]
  },
  {
   "cell_type": "markdown",
   "metadata": {},
   "source": [
    "## Let's try it out --"
   ]
  },
  {
   "cell_type": "markdown",
   "metadata": {},
   "source": [
    "### Creating a browser instance"
   ]
  },
  {
   "cell_type": "code",
   "execution_count": 5,
   "metadata": {
    "collapsed": true
   },
   "outputs": [],
   "source": [
    "browser = webdriver.Firefox()"
   ]
  },
  {
   "cell_type": "code",
   "execution_count": 6,
   "metadata": {
    "collapsed": false
   },
   "outputs": [
    {
     "name": "stdout",
     "output_type": "stream",
     "text": [
      "Current_url https://m.facebook.com/home.php?_rdr\n",
      "Logged in...\n"
     ]
    }
   ],
   "source": [
    "login_facebook(browser)"
   ]
  },
  {
   "cell_type": "code",
   "execution_count": 9,
   "metadata": {
    "collapsed": false
   },
   "outputs": [],
   "source": [
    "browser.get(\"https://m.facebook.com/me\")\n",
    "user_id = link_converter(browser.current_url)"
   ]
  },
  {
   "cell_type": "code",
   "execution_count": 10,
   "metadata": {
    "collapsed": false
   },
   "outputs": [
    {
     "name": "stdout",
     "output_type": "stream",
     "text": [
      "Scrolled to the bottom...\n",
      "[('Лука Тріска', 'triskaluka'), ('Volodymyr Zabulskyy', 'vzabulskyy'), ('Pavlo Kachmar', 'pavlokach'), ('Станіслав Вдович', ['100011401647282']), ('Danil Shankovskiy', ['100010645567246']), ('Semen Senkivskyy', ['100010120716101']), ('Orest Korol', ['100007354367318']), ('Сергій Білоконь', ['100004758851024']), ('Маркіян Водовіз', ['100015004564464']), ('Artem Kuzmych', 'artem.kyzmuch'), ('Vasyl Borsuk', 'vasyl.borsuk.16'), ('Alina Smirnova', 'alina.smir'), ('Дмитро Наконечний', 'dymytriy'), ('Oles Dobosevych', 'dobosevych'), ('George Antentyk', 'yura.antentyk'), (\"Мар'яна Темник\", ['100004954450521']), ('Maxym Komarenskyy', ['100012368705309']), ('Oles Kozak', 'oles.kozak.3'), ('Roman Vey', 'roman.vey'), ('Uliana Supruniuk', 'uliana.supruniuk'), ('Ira Zakharchenko', 'ira.zakharchenko.1'), ('Nazar Romaniv', 'nazar0romaniv'), ('Роман Козак', ['100004729084569']), ('Mary Hirna', 'marichka.hirna'), ('Ira Kostyshyn', 'ira.kostyshyn.3'), ('Kostya Liepieshov', 'Inkognita.n1')]\n"
     ]
    }
   ],
   "source": [
    "print(friends_scrapper(browser, user_id))"
   ]
  },
  {
   "cell_type": "code",
   "execution_count": 11,
   "metadata": {
    "collapsed": false
   },
   "outputs": [
    {
     "data": {
      "text/plain": [
       "26"
      ]
     },
     "execution_count": 11,
     "metadata": {},
     "output_type": "execute_result"
    }
   ],
   "source": [
    "len([('Лука Тріска', 'triskaluka'), ('Volodymyr Zabulskyy', 'vzabulskyy'), ('Pavlo Kachmar', 'pavlokach'), ('Станіслав Вдович', ['100011401647282']), ('Danil Shankovskiy', ['100010645567246']), ('Semen Senkivskyy', ['100010120716101']), ('Orest Korol', ['100007354367318']), ('Сергій Білоконь', ['100004758851024']), ('Маркіян Водовіз', ['100015004564464']), ('Artem Kuzmych', 'artem.kyzmuch'), ('Vasyl Borsuk', 'vasyl.borsuk.16'), ('Alina Smirnova', 'alina.smir'), ('Дмитро Наконечний', 'dymytriy'), ('Oles Dobosevych', 'dobosevych'), ('George Antentyk', 'yura.antentyk'), (\"Мар'яна Темник\", ['100004954450521']), ('Maxym Komarenskyy', ['100012368705309']), ('Oles Kozak', 'oles.kozak.3'), ('Roman Vey', 'roman.vey'), ('Uliana Supruniuk', 'uliana.supruniuk'), ('Ira Zakharchenko', 'ira.zakharchenko.1'), ('Nazar Romaniv', 'nazar0romaniv'), ('Роман Козак', ['100004729084569']), ('Mary Hirna', 'marichka.hirna'), ('Ira Kostyshyn', 'ira.kostyshyn.3'), ('Kostya Liepieshov', 'Inkognita.n1')]\n",
    "   )"
   ]
  }
 ],
 "metadata": {
  "anaconda-cloud": {},
  "kernelspec": {
   "display_name": "Python [conda root]",
   "language": "python",
   "name": "conda-root-py"
  },
  "language_info": {
   "codemirror_mode": {
    "name": "ipython",
    "version": 3
   },
   "file_extension": ".py",
   "mimetype": "text/x-python",
   "name": "python",
   "nbconvert_exporter": "python",
   "pygments_lexer": "ipython3",
   "version": "3.5.2"
  }
 },
 "nbformat": 4,
 "nbformat_minor": 1
}
